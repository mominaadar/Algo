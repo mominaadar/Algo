{
 "cells": [
  {
   "cell_type": "code",
   "execution_count": 1,
   "metadata": {},
   "outputs": [],
   "source": [
    "def check_length(num1, num2):\n",
    "    if len(str(num1))%2 != 0:\n",
    "        num1 = str(0) + str(num1)\n",
    "        \n",
    "    if len(str(num2))%2 != 0:\n",
    "        num2 = str(0) + str(num2)\n",
    "            \n",
    "    return num1, num2"
   ]
  },
  {
   "cell_type": "code",
   "execution_count": 2,
   "metadata": {},
   "outputs": [],
   "source": [
    "def shift_zeros(total, t_count):\n",
    "        \n",
    "    for k in range(t_count):\n",
    "        total = str(total) + str(0)\n",
    "            \n",
    "    return int(total)"
   ]
  },
  {
   "cell_type": "code",
   "execution_count": 5,
   "metadata": {},
   "outputs": [],
   "source": [
    "def div_conquer(num1, num2):\n",
    "    \n",
    "    f_total = 0\n",
    "    \n",
    "    num1, num2 = check_length(num1, num2)\n",
    "    \n",
    "    count1 = len(str(num1))\n",
    "        \n",
    "    for i in range(len(str(num1))):\n",
    "        if i%2 != 0:\n",
    "            continue\n",
    "            \n",
    "        n1 = str(num1)[i] + str(num1)[i+1]\n",
    "        count1 -= 2\n",
    "        \n",
    "        count2 = len(str(num2))\n",
    "        \n",
    "        for j in range(len(str(num2))):\n",
    "            if j%2 != 0:\n",
    "                continue\n",
    "                \n",
    "            n2 = str(num2)[j] + str(num2)[j+1]\n",
    "            count2 -= 2\n",
    "\n",
    "            t_count = count1 + count2\n",
    "            total = int(n1)*int(n2)\n",
    "                        \n",
    "            f_total += shift_zeros(total, t_count)\n",
    "                        \n",
    "    return f_total"
   ]
  },
  {
   "cell_type": "code",
   "execution_count": 6,
   "metadata": {},
   "outputs": [
    {
     "data": {
      "text/plain": [
       "24"
      ]
     },
     "execution_count": 6,
     "metadata": {},
     "output_type": "execute_result"
    }
   ],
   "source": [
    "div_conquer(12,2)"
   ]
  },
  {
   "cell_type": "code",
   "execution_count": null,
   "metadata": {},
   "outputs": [],
   "source": []
  }
 ],
 "metadata": {
  "kernelspec": {
   "display_name": "Python 3",
   "language": "python",
   "name": "python3"
  },
  "language_info": {
   "codemirror_mode": {
    "name": "ipython",
    "version": 3
   },
   "file_extension": ".py",
   "mimetype": "text/x-python",
   "name": "python",
   "nbconvert_exporter": "python",
   "pygments_lexer": "ipython3",
   "version": "3.7.4"
  }
 },
 "nbformat": 4,
 "nbformat_minor": 2
}
