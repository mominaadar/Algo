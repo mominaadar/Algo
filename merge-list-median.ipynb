{
 "cells": [
  {
   "cell_type": "code",
   "execution_count": 97,
   "metadata": {},
   "outputs": [],
   "source": [
    "class Node:\n",
    "    def __init__(self, val=None):\n",
    "        self.val = val\n",
    "        self.next = None"
   ]
  },
  {
   "cell_type": "code",
   "execution_count": 98,
   "metadata": {},
   "outputs": [],
   "source": [
    "class LinkedList:\n",
    "    def __init__(self):\n",
    "        self.head = None"
   ]
  },
  {
   "cell_type": "code",
   "execution_count": 99,
   "metadata": {},
   "outputs": [],
   "source": [
    "def push(self, val):\n",
    "    new_node = Node(val)\n",
    "    \n",
    "    if self.head is None:\n",
    "        self.head = new_node\n",
    "        return \n",
    "    \n",
    "    temp = self.head\n",
    "    while temp.next is not None:\n",
    "        temp = temp.next\n",
    "        \n",
    "    temp.next = new_node\n",
    "    \n",
    "LinkedList.push = push"
   ]
  },
  {
   "cell_type": "code",
   "execution_count": 100,
   "metadata": {},
   "outputs": [],
   "source": [
    "def __str__(self):\n",
    "    ret_str = '['\n",
    "    temp = self.head\n",
    "    while temp:\n",
    "        ret_str += str(temp.val) + \", \"\n",
    "        temp = temp.next\n",
    "        \n",
    "    ret_str = ret_str.rstrip(', ')\n",
    "    ret_str = ret_str + ']'\n",
    "    return ret_str\n",
    "\n",
    "LinkedList.__str__ = __str__"
   ]
  },
  {
   "cell_type": "code",
   "execution_count": 101,
   "metadata": {},
   "outputs": [],
   "source": [
    "def length(self):\n",
    "    temp = self.head\n",
    "    count = 0\n",
    "\n",
    "    while temp:\n",
    "        count += 1\n",
    "        temp = temp.next\n",
    "\n",
    "    return count\n",
    "\n",
    "LinkedList.length = length"
   ]
  },
  {
   "cell_type": "code",
   "execution_count": 199,
   "metadata": {},
   "outputs": [
    {
     "name": "stdout",
     "output_type": "stream",
     "text": [
      "[80, 85, 86, 87, 100]\n",
      "[2, 60, 69, 70]\n"
     ]
    }
   ],
   "source": [
    "l = LinkedList()\n",
    "l.push(80)\n",
    "l.push(85)\n",
    "l.push(86)\n",
    "l.push(87)\n",
    "l.push(100)\n",
    "\n",
    "l2 = LinkedList()\n",
    "l2.push(2)\n",
    "l2.push(60)\n",
    "l2.push(69)\n",
    "l2.push(70)\n",
    "# l2.push(86)\n",
    "\n",
    "print(l)\n",
    "print(l2)"
   ]
  },
  {
   "cell_type": "code",
   "execution_count": 192,
   "metadata": {},
   "outputs": [],
   "source": [
    "def merge_lists(self, l2):\n",
    "    \n",
    "    lst = LinkedList()\n",
    "    temp1 = self.head\n",
    "        \n",
    "    for i in range(self.length()):\n",
    "        temp2 = l2.head\n",
    "        while temp2 is not None:\n",
    "            if temp1.val > temp2.val:\n",
    "                temp1.val, temp2.val = temp2.val, temp1.val \n",
    "\n",
    "            temp2 = temp2.next\n",
    "        lst.push(temp1.val)\n",
    "        temp1 = temp1.next\n",
    "\n",
    "    for j in range(l2.length()):\n",
    "        t2 = l2.head\n",
    "        while t2.next is not None:\n",
    "            if t2.val > t2.next.val:\n",
    "                t2.next.val, t2.val = t2.val, t2.next.val\n",
    "            t2 = t2.next\n",
    "\n",
    "    t2 = l2.head\n",
    "    while t2 is not None:\n",
    "        lst.push(t2.val)\n",
    "        t2 = t2.next\n",
    "\n",
    "    print(lst)\n",
    "    \n",
    "    temp = lst.head\n",
    "    if lst.length()%2 == 0:\n",
    "        for i in range(int(lst.length()/2)-1):\n",
    "            temp = temp.next\n",
    "        return temp.val, temp.next.val\n",
    "    \n",
    "    else:\n",
    "        for i in range(int(lst.length()/2)):\n",
    "            temp = temp.next\n",
    "        return temp.val\n",
    "\n",
    "LinkedList.merge_lists = merge_lists"
   ]
  },
  {
   "cell_type": "code",
   "execution_count": 182,
   "metadata": {},
   "outputs": [
    {
     "name": "stdout",
     "output_type": "stream",
     "text": [
      "[2, 60, 69, 70, 80, 85, 86, 86, 87, 100]\n"
     ]
    },
    {
     "data": {
      "text/plain": [
       "(80, 85)"
      ]
     },
     "execution_count": 182,
     "metadata": {},
     "output_type": "execute_result"
    }
   ],
   "source": [
    "l.merge_lists(l2)"
   ]
  },
  {
   "cell_type": "code",
   "execution_count": 200,
   "metadata": {},
   "outputs": [],
   "source": [
    "def merge(self,l2):\n",
    "    \n",
    "    t1 = self.head\n",
    "    t2 = l2.head\n",
    "    lst = LinkedList()\n",
    "    \n",
    "    while t1 is not None and t2 is not None:\n",
    "        if t1.val > t2.val:\n",
    "            lst.push(t2.val)\n",
    "            t2 = t2.next\n",
    "            \n",
    "        elif t1.val < t2.val:\n",
    "            lst.push(t1.val)\n",
    "            t1 = t1.next\n",
    "            \n",
    "        elif t1.val == t2.val:\n",
    "            lst.push(t1.val)\n",
    "            lst.push(t2.val)\n",
    "            t1 = t1.next\n",
    "            t2 = t2.next\n",
    "            \n",
    "    if t1:\n",
    "        while t1:\n",
    "            lst.push(t1.val)\n",
    "            t1 = t1.next\n",
    "            \n",
    "    elif t2:\n",
    "        while t2:\n",
    "            lst.push(t2.val)\n",
    "            t2 = t2.next\n",
    "            \n",
    "    print(lst)\n",
    "    \n",
    "    temp = lst.head\n",
    "    if lst.length()%2 == 0:\n",
    "        for i in range(int(lst.length()/2)-1):\n",
    "            temp = temp.next\n",
    "        return temp.val, temp.next.val\n",
    "    \n",
    "    else:\n",
    "        for i in range(int(lst.length()/2)):\n",
    "            temp = temp.next\n",
    "        return temp.val\n",
    "    \n",
    "LinkedList.merge = merge"
   ]
  },
  {
   "cell_type": "code",
   "execution_count": 201,
   "metadata": {},
   "outputs": [
    {
     "name": "stdout",
     "output_type": "stream",
     "text": [
      "[2, 60, 69, 70, 80, 85, 86, 87, 100]\n"
     ]
    },
    {
     "data": {
      "text/plain": [
       "80"
      ]
     },
     "execution_count": 201,
     "metadata": {},
     "output_type": "execute_result"
    }
   ],
   "source": [
    "l.merge(l2)"
   ]
  },
  {
   "cell_type": "code",
   "execution_count": null,
   "metadata": {},
   "outputs": [],
   "source": []
  }
 ],
 "metadata": {
  "kernelspec": {
   "display_name": "Python 3",
   "language": "python",
   "name": "python3"
  },
  "language_info": {
   "codemirror_mode": {
    "name": "ipython",
    "version": 3
   },
   "file_extension": ".py",
   "mimetype": "text/x-python",
   "name": "python",
   "nbconvert_exporter": "python",
   "pygments_lexer": "ipython3",
   "version": "3.7.4"
  }
 },
 "nbformat": 4,
 "nbformat_minor": 2
}
